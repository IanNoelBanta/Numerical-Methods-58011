{
  "nbformat": 4,
  "nbformat_minor": 0,
  "metadata": {
    "colab": {
      "name": "Operations and Expression.ipynb",
      "provenance": [],
      "collapsed_sections": [],
      "authorship_tag": "ABX9TyMcg4JqlpoFlXGry3ftcrgb",
      "include_colab_link": true
    },
    "kernelspec": {
      "name": "python3",
      "display_name": "Python 3"
    },
    "language_info": {
      "name": "python"
    }
  },
  "cells": [
    {
      "cell_type": "markdown",
      "metadata": {
        "id": "view-in-github",
        "colab_type": "text"
      },
      "source": [
        "<a href=\"https://colab.research.google.com/github/Yaniii2021/Numerical-Methods-58011/blob/main/Operations_and_Expression.ipynb\" target=\"_parent\"><img src=\"https://colab.research.google.com/assets/colab-badge.svg\" alt=\"Open In Colab\"/></a>"
      ]
    },
    {
      "cell_type": "markdown",
      "source": [
        "##Boolean Operators"
      ],
      "metadata": {
        "id": "pkK2fM2YKCvN"
      }
    },
    {
      "cell_type": "code",
      "source": [
        "print(10 > 9)\n",
        "print(10 == 9)\n",
        "print(10 < 9)"
      ],
      "metadata": {
        "colab": {
          "base_uri": "https://localhost:8080/"
        },
        "id": "nUUb_pzvKB11",
        "outputId": "37269ff1-659c-4086-d03a-73f4b78e0371"
      },
      "execution_count": 67,
      "outputs": [
        {
          "output_type": "stream",
          "name": "stdout",
          "text": [
            "True\n",
            "False\n",
            "False\n"
          ]
        }
      ]
    },
    {
      "cell_type": "code",
      "source": [
        "a = 10 \n",
        "b = 9 \n",
        "\n",
        "print(a > b)\n",
        "print(a == b)\n",
        "print(a < b)"
      ],
      "metadata": {
        "colab": {
          "base_uri": "https://localhost:8080/"
        },
        "id": "YTbHf6NIKlk3",
        "outputId": "d5ff136e-c5bf-4fe9-b2b2-670d3c0963f1"
      },
      "execution_count": 68,
      "outputs": [
        {
          "output_type": "stream",
          "name": "stdout",
          "text": [
            "True\n",
            "False\n",
            "False\n"
          ]
        }
      ]
    },
    {
      "cell_type": "markdown",
      "source": [
        "##Bool Function"
      ],
      "metadata": {
        "id": "sr_DcWZaLKVM"
      }
    },
    {
      "cell_type": "code",
      "source": [
        "print(bool(5))\n",
        "print(bool('Ian'))\n",
        "print(bool(0))\n",
        "print(bool(1))\n",
        "print(bool(None))\n",
        "print(bool([]))"
      ],
      "metadata": {
        "colab": {
          "base_uri": "https://localhost:8080/"
        },
        "id": "KzWYzq2JK7Ah",
        "outputId": "33505715-fb78-424e-e9fd-5d5d4649b224"
      },
      "execution_count": 69,
      "outputs": [
        {
          "output_type": "stream",
          "name": "stdout",
          "text": [
            "True\n",
            "True\n",
            "False\n",
            "True\n",
            "False\n",
            "False\n"
          ]
        }
      ]
    },
    {
      "cell_type": "markdown",
      "source": [
        "##Functions can return a Boolean\n"
      ],
      "metadata": {
        "id": "v2TZUW7YLw-0"
      }
    },
    {
      "cell_type": "code",
      "source": [
        "def myFunction():\n",
        "  return True\n",
        "\n",
        "myFunction()\n",
        "print(myFunction())"
      ],
      "metadata": {
        "colab": {
          "base_uri": "https://localhost:8080/"
        },
        "id": "8ClgmVvYLlwg",
        "outputId": "bae96f06-7c41-48a3-9e90-556ffc4c6b25"
      },
      "execution_count": 70,
      "outputs": [
        {
          "output_type": "stream",
          "name": "stdout",
          "text": [
            "True\n"
          ]
        }
      ]
    },
    {
      "cell_type": "code",
      "source": [
        "def myFunction():\n",
        "  return True\n",
        "\n",
        "if myFunction():\n",
        "  print('YES!')\n",
        "else:\n",
        "  print('NO!')"
      ],
      "metadata": {
        "colab": {
          "base_uri": "https://localhost:8080/"
        },
        "id": "H68ZdZ-uMGkv",
        "outputId": "bafe055e-c06e-42d9-ecb1-bb5200abbc95"
      },
      "execution_count": 71,
      "outputs": [
        {
          "output_type": "stream",
          "name": "stdout",
          "text": [
            "YES!\n"
          ]
        }
      ]
    },
    {
      "cell_type": "markdown",
      "source": [
        "##Application 1\n"
      ],
      "metadata": {
        "id": "3dknFBxsMtFE"
      }
    },
    {
      "cell_type": "code",
      "source": [
        "print(10 > 9)\n",
        "\n",
        "a = 6\n",
        "b = 7\n",
        "\n",
        "print(a == b)\n",
        "print(a != a)"
      ],
      "metadata": {
        "colab": {
          "base_uri": "https://localhost:8080/"
        },
        "id": "2uOyLlWgMrhG",
        "outputId": "146be50c-ea78-4e11-981d-7193c497b953"
      },
      "execution_count": 72,
      "outputs": [
        {
          "output_type": "stream",
          "name": "stdout",
          "text": [
            "True\n",
            "False\n",
            "False\n"
          ]
        }
      ]
    },
    {
      "cell_type": "markdown",
      "source": [
        "##Python Operators "
      ],
      "metadata": {
        "id": "iLFDJEoDORr1"
      }
    },
    {
      "cell_type": "code",
      "source": [
        "print(10 + 5)\n",
        "print(10 - 5)\n",
        "print(10 * 5)\n",
        "print(10 / 5)\n",
        "print(10 % 5) # remainder\n",
        "print(10 % 3) \n",
        "print(10 // 3) # floor division - whole number\n",
        "print(10 ** 2)"
      ],
      "metadata": {
        "colab": {
          "base_uri": "https://localhost:8080/"
        },
        "id": "L8vkTks_No94",
        "outputId": "890e7f08-f55a-45f9-89a4-76d2b2626b5c"
      },
      "execution_count": 73,
      "outputs": [
        {
          "output_type": "stream",
          "name": "stdout",
          "text": [
            "15\n",
            "5\n",
            "50\n",
            "2.0\n",
            "0\n",
            "1\n",
            "3\n",
            "100\n"
          ]
        }
      ]
    },
    {
      "cell_type": "markdown",
      "source": [
        "##Python Bitwise Operators\n"
      ],
      "metadata": {
        "id": "IdZsOcw_PcqH"
      }
    },
    {
      "cell_type": "code",
      "source": [
        "a = 60 # 0011 1100\n",
        "b = 13 # 0000 1101\n",
        "       # 0000 1100 - 12\n",
        "\n",
        "print(a & b)\n",
        "print(a | b)"
      ],
      "metadata": {
        "colab": {
          "base_uri": "https://localhost:8080/"
        },
        "id": "RBJnlKcoOn61",
        "outputId": "00748454-bbb6-4732-8748-cb23ca22265a"
      },
      "execution_count": 74,
      "outputs": [
        {
          "output_type": "stream",
          "name": "stdout",
          "text": [
            "12\n",
            "61\n"
          ]
        }
      ]
    },
    {
      "cell_type": "markdown",
      "source": [
        "##Python Assignment Operators"
      ],
      "metadata": {
        "id": "64tYXzPdQKOF"
      }
    },
    {
      "cell_type": "code",
      "source": [
        "a+=3 # same as a = a + 3\n",
        "print(a)"
      ],
      "metadata": {
        "colab": {
          "base_uri": "https://localhost:8080/"
        },
        "id": "CylIAzrnQE7z",
        "outputId": "88adc236-b54f-4f1a-aedd-dc0180619580"
      },
      "execution_count": 75,
      "outputs": [
        {
          "output_type": "stream",
          "name": "stdout",
          "text": [
            "63\n"
          ]
        }
      ]
    },
    {
      "cell_type": "markdown",
      "source": [
        "##Logical Operators"
      ],
      "metadata": {
        "id": "-kcJxKMJRM4u"
      }
    },
    {
      "cell_type": "code",
      "source": [
        "a = True\n",
        "b = False\n",
        "\n",
        "print(a and b)\n",
        "print(a or b)\n",
        "print(not(a or b))"
      ],
      "metadata": {
        "colab": {
          "base_uri": "https://localhost:8080/"
        },
        "id": "NOgDZFxORMCD",
        "outputId": "da451853-2211-4163-b196-b15636bc5c72"
      },
      "execution_count": 76,
      "outputs": [
        {
          "output_type": "stream",
          "name": "stdout",
          "text": [
            "False\n",
            "True\n",
            "False\n"
          ]
        }
      ]
    },
    {
      "cell_type": "markdown",
      "source": [
        "##Identity Operators"
      ],
      "metadata": {
        "id": "6ilZ3a87RfW2"
      }
    },
    {
      "cell_type": "code",
      "source": [
        "print(a is b)\n",
        "print(a is not b)"
      ],
      "metadata": {
        "colab": {
          "base_uri": "https://localhost:8080/"
        },
        "id": "ux8O9-7wRh45",
        "outputId": "078e91b1-eaac-43c9-83d9-0ba4462062dd"
      },
      "execution_count": 77,
      "outputs": [
        {
          "output_type": "stream",
          "name": "stdout",
          "text": [
            "False\n",
            "True\n"
          ]
        }
      ]
    }
  ]
}