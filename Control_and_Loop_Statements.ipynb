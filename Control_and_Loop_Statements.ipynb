{
  "nbformat": 4,
  "nbformat_minor": 0,
  "metadata": {
    "colab": {
      "name": "Control and Loop Statements.ipynb",
      "provenance": [],
      "authorship_tag": "ABX9TyNGRLdvBnTiOfqb0dpmGZuH",
      "include_colab_link": true
    },
    "kernelspec": {
      "name": "python3",
      "display_name": "Python 3"
    },
    "language_info": {
      "name": "python"
    }
  },
  "cells": [
    {
      "cell_type": "markdown",
      "metadata": {
        "id": "view-in-github",
        "colab_type": "text"
      },
      "source": [
        "<a href=\"https://colab.research.google.com/github/Yaniii2021/Numerical-Methods-58011/blob/main/Control_and_Loop_Statements.ipynb\" target=\"_parent\"><img src=\"https://colab.research.google.com/assets/colab-badge.svg\" alt=\"Open In Colab\"/></a>"
      ]
    },
    {
      "cell_type": "markdown",
      "source": [
        "##If Statement\n"
      ],
      "metadata": {
        "id": "5uLYjNMbbpyK"
      }
    },
    {
      "cell_type": "code",
      "execution_count": 17,
      "metadata": {
        "colab": {
          "base_uri": "https://localhost:8080/"
        },
        "id": "-vVoZwtQbgNc",
        "outputId": "3efbcf8f-ca15-41f0-f4bb-d2fbb6826970"
      },
      "outputs": [
        {
          "output_type": "stream",
          "name": "stdout",
          "text": [
            "b is greater than a\n"
          ]
        }
      ],
      "source": [
        "a = 12\n",
        "b = 100\n",
        "\n",
        "if b > a:\n",
        "  print('b is greater than a')\n",
        "else:\n",
        "  print('b is less than a')"
      ]
    },
    {
      "cell_type": "markdown",
      "source": [
        "##Elif Statement\n"
      ],
      "metadata": {
        "id": "BEDchZ-kcrxJ"
      }
    },
    {
      "cell_type": "code",
      "source": [
        "if b > a:\n",
        "  print('b is greater than a')\n",
        "elif a == b:\n",
        "  print('a and b are equal')\n",
        "else:\n",
        "  print('a is greater than b')"
      ],
      "metadata": {
        "colab": {
          "base_uri": "https://localhost:8080/"
        },
        "id": "5B9jkWvfcIIf",
        "outputId": "76cb8e6f-67cb-4577-92b5-95865aa7241c"
      },
      "execution_count": 18,
      "outputs": [
        {
          "output_type": "stream",
          "name": "stdout",
          "text": [
            "b is greater than a\n"
          ]
        }
      ]
    },
    {
      "cell_type": "markdown",
      "source": [
        "##Else Statement"
      ],
      "metadata": {
        "id": "ZF8kho2vda1r"
      }
    },
    {
      "cell_type": "code",
      "source": [
        "a = 12\n",
        "b = 12\n",
        "\n",
        "if b > a:\n",
        "  print('b is greater than a')\n",
        "elif a > b:\n",
        "  print('a is greater than b')\n",
        "else:\n",
        "  print('a and b are equal')"
      ],
      "metadata": {
        "colab": {
          "base_uri": "https://localhost:8080/"
        },
        "id": "KNVj1hzYddnL",
        "outputId": "10687e6a-f9a7-445b-e4c6-fc2f59984935"
      },
      "execution_count": 20,
      "outputs": [
        {
          "output_type": "stream",
          "name": "stdout",
          "text": [
            "a and b are equal\n"
          ]
        }
      ]
    },
    {
      "cell_type": "markdown",
      "source": [
        "##Short Hand If Statement\n"
      ],
      "metadata": {
        "id": "9EX5TYjyeJeU"
      }
    },
    {
      "cell_type": "code",
      "source": [
        "a = 12\n",
        "b = 100\n",
        "\n",
        "if b > a: print('b is greater than a')"
      ],
      "metadata": {
        "colab": {
          "base_uri": "https://localhost:8080/"
        },
        "id": "iCTA-JnyeMJr",
        "outputId": "fc86631a-b5de-4be4-9f1c-f1488b5e2781"
      },
      "execution_count": 21,
      "outputs": [
        {
          "output_type": "stream",
          "name": "stdout",
          "text": [
            "b is greater than a\n"
          ]
        }
      ]
    },
    {
      "cell_type": "markdown",
      "source": [
        "##Short Hand If Else Statement\n"
      ],
      "metadata": {
        "id": "NP9XYlUneVhZ"
      }
    },
    {
      "cell_type": "code",
      "source": [
        "c = 35\n",
        "d = 40\n",
        "\n",
        "print('d is greater than c') if d > c else print('c is greater than d')"
      ],
      "metadata": {
        "colab": {
          "base_uri": "https://localhost:8080/"
        },
        "id": "61ZDniSEeYpG",
        "outputId": "cbb57fa8-0fa2-4de6-b0fe-e7b994dac0db"
      },
      "execution_count": 26,
      "outputs": [
        {
          "output_type": "stream",
          "name": "stdout",
          "text": [
            "d is greater than c\n"
          ]
        }
      ]
    },
    {
      "cell_type": "markdown",
      "source": [
        "##And Logic - if both statements or operands are true\n"
      ],
      "metadata": {
        "id": "L0r_b0HufQ0j"
      }
    },
    {
      "cell_type": "code",
      "source": [
        "c = 35\n",
        "d = 40\n",
        "e = 30\n",
        "\n",
        "if d > c and c > e:\n",
        "  print('Both conditions must be True')"
      ],
      "metadata": {
        "colab": {
          "base_uri": "https://localhost:8080/"
        },
        "id": "LQTdh5q8fU2G",
        "outputId": "c8fb1389-3aa7-4314-b81f-ebbe98cd96b1"
      },
      "execution_count": 27,
      "outputs": [
        {
          "output_type": "stream",
          "name": "stdout",
          "text": [
            "Both conditions must be True\n"
          ]
        }
      ]
    },
    {
      "cell_type": "markdown",
      "source": [
        "##Or Logic - if one of the operands is True"
      ],
      "metadata": {
        "id": "CDh6_5W6gDVz"
      }
    },
    {
      "cell_type": "code",
      "source": [
        "if d > c or e > d:\n",
        "  print('If one of the two operands is True')"
      ],
      "metadata": {
        "colab": {
          "base_uri": "https://localhost:8080/"
        },
        "id": "Dxq01WZJgHQ_",
        "outputId": "0560f840-2aed-4751-874e-6c5678d1976b"
      },
      "execution_count": 28,
      "outputs": [
        {
          "output_type": "stream",
          "name": "stdout",
          "text": [
            "If one of the two operands is True\n"
          ]
        }
      ]
    },
    {
      "cell_type": "markdown",
      "source": [
        "##Nested If"
      ],
      "metadata": {
        "id": "7BkLKazfgXgL"
      }
    },
    {
      "cell_type": "code",
      "source": [
        "x = int(input())\n",
        "\n",
        "if x > 10:\n",
        "  print('x is greater than 10')\n",
        "  if x > 20:\n",
        "    print('x is above 20')\n",
        "    if x > 30:\n",
        "      print('x is above 30')\n",
        "      if x > 40:\n",
        "        print('x is above 40')\n",
        "      else:\n",
        "        print('x is not above 40')\n",
        "    else:\n",
        "      print('x is not above 30')\n",
        "  else:\n",
        "    print('x is not above 20')"
      ],
      "metadata": {
        "colab": {
          "base_uri": "https://localhost:8080/"
        },
        "id": "Bya2_zzbgZig",
        "outputId": "fe2286cd-169a-4081-d146-6f4e18a381f0"
      },
      "execution_count": 32,
      "outputs": [
        {
          "output_type": "stream",
          "name": "stdout",
          "text": [
            "35\n",
            "x is greater than 10\n",
            "x is above 20\n",
            "x is above 30\n",
            "x is not above 40\n"
          ]
        }
      ]
    },
    {
      "cell_type": "markdown",
      "source": [
        "##Application 1 - Write a program that determines if the input age is qualifed to vote or not. The qualifying age is 18 years old and above.\n",
        "\n"
      ],
      "metadata": {
        "id": "wbcnSil3iofU"
      }
    },
    {
      "cell_type": "code",
      "source": [
        "input_age = int(input())\n",
        "\n",
        "if input_age >= 18:\n",
        "  print('You are qualified to vote.')\n",
        "else:\n",
        "  print('You are not qualified to vote.')"
      ],
      "metadata": {
        "colab": {
          "base_uri": "https://localhost:8080/"
        },
        "id": "Q5tbpJ4eiqho",
        "outputId": "60aca0af-15c1-428f-a1f8-3956c8ec2462"
      },
      "execution_count": 37,
      "outputs": [
        {
          "output_type": "stream",
          "name": "stdout",
          "text": [
            "100\n",
            "You are qualified to vote.\n"
          ]
        }
      ]
    },
    {
      "cell_type": "markdown",
      "source": [
        "##Application 2 - Write a program that determines if the input number is positive, negative or zero.\n"
      ],
      "metadata": {
        "id": "m6ZqLnAljpsd"
      }
    },
    {
      "cell_type": "code",
      "source": [
        "input_number = int(input())\n",
        "\n",
        "if input_number > 0:\n",
        "  print('The number is positive.')\n",
        "elif input_number < 0:\n",
        "  print('The number is negative.')\n",
        "else:\n",
        "  print('The number is zero.')"
      ],
      "metadata": {
        "colab": {
          "base_uri": "https://localhost:8080/"
        },
        "id": "gFkryOf9jy_3",
        "outputId": "e658dbde-a8e7-4dfd-edae-ced21dbe9e96"
      },
      "execution_count": 41,
      "outputs": [
        {
          "output_type": "stream",
          "name": "stdout",
          "text": [
            "-23\n",
            "The number is negative.\n"
          ]
        }
      ]
    },
    {
      "cell_type": "markdown",
      "source": [
        "##For loop"
      ],
      "metadata": {
        "id": "jMbzzJ3QkSV-"
      }
    },
    {
      "cell_type": "code",
      "source": [
        "week = ['Sunday', 'Monday', 'Tuesday', 'Wednesday', 'Thursday', 'Friday', 'Saturday']\n",
        "\n",
        "for x in week:\n",
        "  print(x)\n",
        "  if x == 'Thursday':\n",
        "    break"
      ],
      "metadata": {
        "colab": {
          "base_uri": "https://localhost:8080/"
        },
        "id": "15mLgwddkT_H",
        "outputId": "21b66c34-3224-4a0d-e5c1-dff063815a7f"
      },
      "execution_count": 43,
      "outputs": [
        {
          "output_type": "stream",
          "name": "stdout",
          "text": [
            "Sunday\n",
            "Monday\n",
            "Tuesday\n",
            "Wednesday\n",
            "Thursday\n"
          ]
        }
      ]
    },
    {
      "cell_type": "markdown",
      "source": [
        "##While Loop\n"
      ],
      "metadata": {
        "id": "5kFLCue4losN"
      }
    },
    {
      "cell_type": "code",
      "source": [
        "y = 1\n",
        "\n",
        "while y < 6:\n",
        "  print(y)\n",
        "  y += 1"
      ],
      "metadata": {
        "colab": {
          "base_uri": "https://localhost:8080/"
        },
        "id": "dKqwvM6Clqmf",
        "outputId": "ab20d7b5-fa1e-4cee-cdbc-2493a77a1a7c"
      },
      "execution_count": 49,
      "outputs": [
        {
          "output_type": "stream",
          "name": "stdout",
          "text": [
            "1\n",
            "2\n",
            "3\n",
            "4\n",
            "5\n"
          ]
        }
      ]
    }
  ]
}