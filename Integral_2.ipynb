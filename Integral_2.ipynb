{
  "nbformat": 4,
  "nbformat_minor": 0,
  "metadata": {
    "colab": {
      "name": "Integral 2.ipynb",
      "provenance": [],
      "authorship_tag": "ABX9TyONaH6t2Ras+MJDRjmdG7Ge",
      "include_colab_link": true
    },
    "kernelspec": {
      "name": "python3",
      "display_name": "Python 3"
    },
    "language_info": {
      "name": "python"
    }
  },
  "cells": [
    {
      "cell_type": "markdown",
      "metadata": {
        "id": "view-in-github",
        "colab_type": "text"
      },
      "source": [
        "<a href=\"https://colab.research.google.com/github/Yaniii2021/Numerical-Methods-58011/blob/main/Integral_2.ipynb\" target=\"_parent\"><img src=\"https://colab.research.google.com/assets/colab-badge.svg\" alt=\"Open In Colab\"/></a>"
      ]
    },
    {
      "cell_type": "markdown",
      "source": [
        "**NOTES**\n"
      ],
      "metadata": {
        "id": "CCSNuVuVJGb0"
      }
    },
    {
      "cell_type": "code",
      "execution_count": 1,
      "metadata": {
        "id": "PiGTawpFiJ8S"
      },
      "outputs": [],
      "source": [
        "from math import sin"
      ]
    },
    {
      "cell_type": "code",
      "source": [
        "def f(x):\n",
        "  return sin(x) # define the trigonometric function"
      ],
      "metadata": {
        "id": "zOl1kEhnify_"
      },
      "execution_count": 2,
      "outputs": []
    },
    {
      "cell_type": "code",
      "source": [
        "a = 0\n",
        "b = 2\n",
        "n = 11\n",
        "h = (b - a) / n #width of the trapezoid\n",
        "s = h * (f(a) + f(b)) #beginning value of summation\n",
        "\n",
        "for i in range(1, n):\n",
        "  s += (a+i*h)\n",
        "\n",
        "integral = h*s\n",
        "print(integral)"
      ],
      "metadata": {
        "colab": {
          "base_uri": "https://localhost:8080/"
        },
        "id": "AfpUl5ybirFr",
        "outputId": "a1ba2348-286c-4ad8-fc11-4efc6e3774ab"
      },
      "execution_count": 3,
      "outputs": [
        {
          "output_type": "stream",
          "name": "stdout",
          "text": [
            "1.848241237250436\n"
          ]
        }
      ]
    },
    {
      "cell_type": "code",
      "source": [
        "def new(x): \n",
        "  return 0.2+25*x-200*x**2+675*x**3-900*x**4+400*x**5\n",
        "\n",
        "a = 0\n",
        "b = 0.8\n",
        "n = 999\n",
        "h = (b - a) / n #width of the trapezoid\n",
        "S = h*(new(a)+new(b))    #beginning value of summation\n",
        "\n",
        "for i in range(0,n):\n",
        "    S += new(a+i*h)\n",
        "\n",
        "integral = h*S\n",
        "print(integral)"
      ],
      "metadata": {
        "id": "XH3Axq-Om1lF",
        "colab": {
          "base_uri": "https://localhost:8080/"
        },
        "outputId": "18bbcfa4-6198-4dd5-8757-c041da98d79f"
      },
      "execution_count": 4,
      "outputs": [
        {
          "output_type": "stream",
          "name": "stdout",
          "text": [
            "1.6405182324277165\n"
          ]
        }
      ]
    },
    {
      "cell_type": "code",
      "source": [
        "import numpy as np \n",
        "\n",
        "def new(x): #save as integral 2\n",
        "  return 0.2+25*x-200*x**2+675*x**3-900*x**4+400*x**5\n",
        "\n",
        "a = 0\n",
        "b = 0.8\n",
        "n = 999\n",
        "h = (b - a) / n #width of the trapezoid\n",
        "S = h*(new(a)+new(b))    #beginning value of summation\n",
        "\n",
        "for  i in np.arange(0, 0.2, 0.000019):\n",
        "    S += new(a+i*h)\n",
        "\n",
        "integral = h*S\n",
        "print(integral)"
      ],
      "metadata": {
        "colab": {
          "base_uri": "https://localhost:8080/"
        },
        "id": "cw_qLMB0vwtr",
        "outputId": "1d65213b-8583-4c03-cfad-74e4303cda3a"
      },
      "execution_count": 5,
      "outputs": [
        {
          "output_type": "stream",
          "name": "stdout",
          "text": [
            "1.7028683036833565\n"
          ]
        }
      ]
    }
  ]
}