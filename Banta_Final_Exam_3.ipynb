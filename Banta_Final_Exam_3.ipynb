{
  "nbformat": 4,
  "nbformat_minor": 0,
  "metadata": {
    "colab": {
      "name": "Banta Final Exam #3.ipynb",
      "provenance": [],
      "authorship_tag": "ABX9TyO4N1rnvAR0JwJC9VhR4xiU",
      "include_colab_link": true
    },
    "kernelspec": {
      "name": "python3",
      "display_name": "Python 3"
    },
    "language_info": {
      "name": "python"
    }
  },
  "cells": [
    {
      "cell_type": "markdown",
      "metadata": {
        "id": "view-in-github",
        "colab_type": "text"
      },
      "source": [
        "<a href=\"https://colab.research.google.com/github/Yaniii2021/Numerical-Methods-58011/blob/main/Banta_Final_Exam_3.ipynb\" target=\"_parent\"><img src=\"https://colab.research.google.com/assets/colab-badge.svg\" alt=\"Open In Colab\"/></a>"
      ]
    },
    {
      "cell_type": "code",
      "execution_count": 8,
      "metadata": {
        "colab": {
          "base_uri": "https://localhost:8080/"
        },
        "id": "f8rWDNMYpCxz",
        "outputId": "319bc45f-9122-4b98-dfac-0b9524805518"
      },
      "outputs": [
        {
          "output_type": "stream",
          "name": "stdout",
          "text": [
            "Integral = 2.1731\n"
          ]
        }
      ],
      "source": [
        "import numpy as np\n",
        "\n",
        "def f(x):\n",
        "  return np.exp(x) #define the function\n",
        "\n",
        "a = -1\n",
        "b = 1\n",
        "n = 10\n",
        "h = (b - a) / n #width of the trapezoid\n",
        "s = h * (f(a) + f(b)) #beginning value of summation\n",
        "\n",
        "for i in range(1, n):\n",
        "  s += f(a+i*h)\n",
        "\n",
        "integral = h*s\n",
        "print('Integral = %0.4f' %integral)"
      ]
    }
  ]
}